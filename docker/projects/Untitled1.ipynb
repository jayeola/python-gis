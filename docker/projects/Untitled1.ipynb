{
 "cells": [
  {
   "cell_type": "code",
   "execution_count": 20,
   "id": "ad355897",
   "metadata": {},
   "outputs": [
    {
     "name": "stdout",
     "output_type": "stream",
     "text": [
      "For checking purposes: in defineAList, list is ['1', '2', '3']\n",
      "For checking purposes: in useTheList, list is ['1', '2', '3']\n"
     ]
    }
   ],
   "source": [
    "def defineAList():\n",
    "    local_list = ['1','2','3']\n",
    "    print(\"For checking purposes: in defineAList, list is\", local_list)\n",
    "    return local_list \n",
    "\n",
    "def useTheList(passed_list):\n",
    "    print(\"For checking purposes: in useTheList, list is\", passed_list)\n",
    "\n",
    "def main():\n",
    "    # returned list is ignored\n",
    "    returned_list = defineAList()   \n",
    "\n",
    "    # passed_list inside useTheList is set to what is returned from defineAList\n",
    "    useTheList(returned_list) \n",
    "\n",
    "main()"
   ]
  },
  {
   "cell_type": "code",
   "execution_count": null,
   "id": "6dd85f05",
   "metadata": {},
   "outputs": [],
   "source": []
  }
 ],
 "metadata": {
  "kernelspec": {
   "display_name": "Python 3",
   "language": "python",
   "name": "python3"
  },
  "language_info": {
   "codemirror_mode": {
    "name": "ipython",
    "version": 3
   },
   "file_extension": ".py",
   "mimetype": "text/x-python",
   "name": "python",
   "nbconvert_exporter": "python",
   "pygments_lexer": "ipython3",
   "version": "3.9.5"
  }
 },
 "nbformat": 4,
 "nbformat_minor": 5
}
