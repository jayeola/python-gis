{
 "cells": [
  {
   "cell_type": "code",
   "execution_count": 1,
   "id": "484c1a88",
   "metadata": {},
   "outputs": [
    {
     "name": "stdout",
     "output_type": "stream",
     "text": [
      "details and properties about point p1\n",
      "type:  <class 'shapely.geometry.point.Point'>\n",
      "values:  POINT (0 0)\n",
      "cords:  (array('d', [0.0]), array('d', [0.0]))\n",
      "x:  0.0\n",
      "y:  0.0\n",
      "coords:  <shapely.coords.CoordinateSequence object at 0x7f2520c84bb0>\n"
     ]
    }
   ],
   "source": [
    "%run create_geometries.py\n"
   ]
  }
 ],
 "metadata": {
  "kernelspec": {
   "display_name": "Python 3",
   "language": "python",
   "name": "python3"
  },
  "language_info": {
   "codemirror_mode": {
    "name": "ipython",
    "version": 3
   },
   "file_extension": ".py",
   "mimetype": "text/x-python",
   "name": "python",
   "nbconvert_exporter": "python",
   "pygments_lexer": "ipython3",
   "version": "3.9.5"
  }
 },
 "nbformat": 4,
 "nbformat_minor": 5
}
